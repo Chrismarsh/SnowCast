{
 "cells": [
  {
   "cell_type": "code",
   "execution_count": 3,
   "metadata": {
    "collapsed": false
   },
   "outputs": [],
   "source": [
    "# Import modules\n",
    "# ipython magic to plot in line\n",
    "%matplotlib inline\n",
    "#import mpld3\n",
    "#mpld3.enable_notebook()\n",
    "import matplotlib\n",
    "#matplotlib.style.use('ggplot')\n",
    "import numpy as np\n",
    "import datetime\n",
    "import pandas as pd\n",
    "import matplotlib.pyplot as plt\n",
    "import xarray as xr\n",
    "from astropy.io import ascii\n",
    "import pytz\n",
    "# OS interaction\n",
    "import sys\n",
    "import os\n",
    "import glob\n",
    "import time\n",
    "plt.rcParams.update({'figure.max_open_warning': 0})\n",
    "\n",
    "# On Chinook (in CST) we need to tell python we want to display in CST (otherwise UTC is assumed)\n",
    "if os.name=='posix': # Linux\n",
    "    os.environ['TZ'] = 'CST'\n",
    "    time.tzset()"
   ]
  },
  {
   "cell_type": "code",
   "execution_count": null,
   "metadata": {
    "collapsed": true
   },
   "outputs": [],
   "source": [
    "Stations_all = ['BNS','CRG','CRN','FLG','FRG','FRS','PWL']\n",
    "\n",
    "CST_to_MST = -1 # CST to MST"
   ]
  },
  {
   "cell_type": "code",
   "execution_count": null,
   "metadata": {
    "collapsed": true
   },
   "outputs": [],
   "source": [
    "# Set font size\n",
    "font = {'weight' : 'bold',\n",
    "        'size'   : 18}\n",
    "matplotlib.rc('font', **font)"
   ]
  },
  {
   "cell_type": "code",
   "execution_count": null,
   "metadata": {
    "collapsed": true
   },
   "outputs": [],
   "source": [
    "# Directories\n",
    "# Path to raw data\n",
    " # Win path\n",
    "#mod_dir   = os.path.normpath(r'C:\\\\Users\\\\new356\\Model_Output\\CHM\\SnowCast')\n",
    "#telm_dir  = os.path.normpath(r'Y:\\Centre\\Marmot Creek\\Telemetry\\FortressMountain')\n",
    " # Linux path\n",
    "mod_dir   = os.path.normpath(r'/home/nwayand/snow_models/output_CHM/SnowCast')\n",
    "telm_dir  = os.path.normpath(r'/home/nwayand/hydrology_staff_readonly/Centre/Marmot Creek/Telemetry/FortressMountain')\n",
    "\n",
    "# Model output ending\n",
    "mod_ending   = '*_out.txt'"
   ]
  },
  {
   "cell_type": "code",
   "execution_count": null,
   "metadata": {
    "collapsed": false
   },
   "outputs": [],
   "source": [
    "input_format = 'CHM'"
   ]
  },
  {
   "cell_type": "code",
   "execution_count": null,
   "metadata": {
    "collapsed": false
   },
   "outputs": [],
   "source": [
    "if input_format == 'CHM':\n",
    "    # Ascii data format info\n",
    "    c_header = 1 # Header lines\n",
    "    c_column_line = 1 # line where column names start\n",
    "    c_delimiter = ','"
   ]
  },
  {
   "cell_type": "code",
   "execution_count": null,
   "metadata": {
    "collapsed": false
   },
   "outputs": [],
   "source": [
    "# Move to Model dir\n",
    "os.chdir(mod_dir) "
   ]
  },
  {
   "cell_type": "code",
   "execution_count": null,
   "metadata": {
    "collapsed": false
   },
   "outputs": [],
   "source": []
  },
  {
   "cell_type": "code",
   "execution_count": null,
   "metadata": {
    "collapsed": true
   },
   "outputs": [],
   "source": [
    "def get_recent_CRHO_data_from_telem(csta,data_dir):\n",
    "    %matplotlib inline\n",
    "    import os\n",
    "    import numpy as np\n",
    "    import pandas as pd\n",
    "    from astropy.io import ascii\n",
    "\n",
    "    c_header = 4 # Header lines\n",
    "    c_column_line = 1 # line where column names start\n",
    "    c_delimiter = ','\n",
    "\n",
    "    # Load in file\n",
    "    cfile = csta + '_0015.dat' # Format for 15 min file\n",
    "    dat = ascii.read(os.path.join(data_dir,cfile),header_start=c_column_line,data_start=c_header,delimiter=c_delimiter,exclude_names='N/A')\n",
    "    datain = pd.DataFrame(dat.as_array())\n",
    "\n",
    "    # Replace -9999 with nan (recomended by netcdf)\n",
    "    datain.replace(-9999,np.NaN,inplace=True)\n",
    "\n",
    "    # Make TIMESTAMP the index\n",
    "    datain['TIMESTAMP'] = datain['TIMESTAMP'].astype('datetime64[ns]')\n",
    "    datain = datain.set_index('TIMESTAMP')\n",
    "    \n",
    "    \n",
    "    # Telem files saved in CST, convert to MST\n",
    "    datain.index = datain.index + datetime.timedelta(hours=CST_to_MST)\n",
    "    # Adjust to local time zone (i.e. from UTC to MST, local_time_offset should = -7)\n",
    "    #ds['datetime'] = pd.to_datetime(ds.datetime.values) + datetime.timedelta(hours=local_time_offset)\n",
    "    \n",
    "    # Import header info \n",
    "    headerinfo = pd.read_csv(os.path.join(data_dir,cfile),nrows=2,skiprows=1)\n",
    "    units = headerinfo.loc[0,:].tolist() # Grab first row of dataframe (units)\n",
    "    units = units[1:] # Remove first value which is the units of the timestamp\n",
    "\n",
    "    return {'datain':datain, 'units':units}"
   ]
  },
  {
   "cell_type": "code",
   "execution_count": null,
   "metadata": {
    "collapsed": true
   },
   "outputs": [],
   "source": [
    "def plot_station_weather(modData,obsData_dict):\n",
    "    ## Multiple axes\n",
    "    from mpl_toolkits.axes_grid1 import host_subplot\n",
    "    import mpl_toolkits.axisartist as AA\n",
    "\n",
    "    #### Var to plot\n",
    " \n",
    "    # Model\n",
    "    t = modData['t']  # C\n",
    "    p = modData['p']  # mm\n",
    "    p_snow = modData['p_snow'] # mm\n",
    "    ctime = t.index\n",
    "\n",
    "    # Observed\n",
    "    obsData = obsData_dict['datain']\n",
    "    obsUnits = obsData_dict['units']\n",
    "    obs_t = obsData['AirTemp_Avg'] # C\n",
    "    if 'Accumulated_Total_NRT' in obsData: # Some stations do not have precip\n",
    "        obs_p = obsData['Accumulated_Total_NRT'] # mm # need to convert to incremental\n",
    "    #obs_p_snow = modData['p_snow']    \n",
    "    obs_ctime = obsData.index\n",
    "    \n",
    "    fig = plt.figure()\n",
    "    fig.set_size_inches(16, 8,forward=True)\n",
    "    host = host_subplot(111, axes_class=AA.Axes)\n",
    "\n",
    "    plt.subplots_adjust(right=0.75)\n",
    "\n",
    "    par1 = host.twinx()\n",
    "    par2 = host.twinx()\n",
    "\n",
    "    offset = 70\n",
    "    new_fixed_axis = par2.get_grid_helper().new_fixed_axis\n",
    "    par2.axis[\"right\"] = new_fixed_axis(loc=\"right\",axes=par2, offset=(offset, 0))\n",
    "\n",
    "    par2.axis[\"right\"].toggle(all=True)\n",
    "\n",
    "    host.set_xlim(ctime[0],ctime[len(ctime)-1])\n",
    "    host.set_ylim(t.min(), t.max())\n",
    "\n",
    "    host.set_xlabel(\"Time (MST)\")\n",
    "    host.set_ylabel(\"Air Temperature (C)\")\n",
    "\n",
    "    par1.set_ylabel(\"Precipitation (mm)\")\n",
    "    par2.set_ylabel(\"Frozen Precipitation (mm)\")\n",
    "\n",
    "    # Model\n",
    "    p1, = host.plot(ctime, t, label=\"Air Temperature GEM-CHM Modeled\")\n",
    "    p2, = par1.plot(ctime, p, label=\"Precipitation GEM-CHM Modeled\")\n",
    "    p3, = par2.plot(ctime, p_snow, label=\"Frozen Precip GEM-CHM Modeled\")\n",
    "    \n",
    "    # Observed\n",
    "    obs_p1, = host.plot(obs_ctime, obs_t, label=\"Air Temperature Observed\")\n",
    "    if 'Accumulated_Total_NRT' in obsData: # Some stations do not have precip    \n",
    "        obs_p2, = par1.plot(obs_ctime, obs_p, label=\"Precipitation Observed\")\n",
    "    #obs_p3, = par2.plot(ctime, p_snow, label=\"Observed\")\n",
    "\n",
    "    par1.set_ylim(0, p.max())\n",
    "    par2.set_ylim(0, p.max())\n",
    "\n",
    "    host.legend()\n",
    "\n",
    "    host.axis[\"left\"].label.set_color(p1.get_color())\n",
    "    par1.axis[\"right\"].label.set_color(p2.get_color())\n",
    "    par2.axis[\"right\"].label.set_color(p3.get_color())\n",
    "\n",
    "    plt.title(cSta)"
   ]
  },
  {
   "cell_type": "code",
   "execution_count": null,
   "metadata": {
    "collapsed": false
   },
   "outputs": [],
   "source": []
  },
  {
   "cell_type": "code",
   "execution_count": null,
   "metadata": {
    "collapsed": false
   },
   "outputs": [],
   "source": [
    "def plot_station_snow_soil(datain,obsData_dict):\n",
    "    ## Multiple axes\n",
    "    from mpl_toolkits.axes_grid1 import host_subplot\n",
    "    import mpl_toolkits.axisartist as AA\n",
    "\n",
    "    # Var to plot\n",
    "    \n",
    "    # Modeled\n",
    "    var1 = datain['swe']\n",
    "    var2 = datain['snowdepthavg']\n",
    "    var3 = datain['snow_albedo']\n",
    "    ctime = var1.index\n",
    "    \n",
    "    # Observed\n",
    "    obsData = obsData_dict['datain']\n",
    "    obsUnits = obsData_dict['units']\n",
    "    if 'SnowDepth' in obsData: # not all stations have snow depth\n",
    "        obs_SnowDepth = obsData['SnowDepth'] # C\n",
    "    if 'SWE_scale_Avg' in obsData: # Some stations do not have precip\n",
    "        obs_swe = obsData['SWE_scale_Avg'] # mm # need to convert to incremental\n",
    "    #obs_p_snow = modData['p_snow']    \n",
    "    obs_ctime = obsData.index\n",
    "\n",
    "    fig = plt.figure()\n",
    "    fig.set_size_inches(14, 8,forward=True)\n",
    "    host = host_subplot(111, axes_class=AA.Axes)\n",
    "\n",
    "    plt.subplots_adjust(right=0.75)\n",
    "\n",
    "    par1 = host.twinx()\n",
    "    par2 = host.twinx()\n",
    "\n",
    "    offset = 120\n",
    "    new_fixed_axis = par2.get_grid_helper().new_fixed_axis\n",
    "    par2.axis[\"right\"] = new_fixed_axis(loc=\"right\",axes=par2, offset=(offset, 0))\n",
    "\n",
    "    par2.axis[\"right\"].toggle(all=True)\n",
    "    \n",
    "    host.set_xlim(ctime[0],ctime[len(ctime)-1])\n",
    "    if (var1.max()>0):\n",
    "        host.set_ylim(0, var1.max())\n",
    "    else:\n",
    "        host.set_ylim(0, 10)\n",
    "    \n",
    "\n",
    "    host.set_xlabel(\"Time (MST)\")\n",
    "    host.set_ylabel(\"SWE (mm)\")\n",
    "\n",
    "    par1.set_ylabel(\"Snow Depth (mm)\")\n",
    "    par2.set_ylabel(\"Snow Albedo (-)\")\n",
    "\n",
    "    # Plot Model\n",
    "    p1, = host.plot(ctime, var1, label=\"SWE Modeled\")\n",
    "    p2, = par1.plot(ctime, var2, label=\"Snow Depth Modeled\")\n",
    "    p3, = par2.plot(ctime, var3, label=\"Snow Albedo Modeled\")\n",
    "    \n",
    "    # Plot Observations\n",
    "    if 'SWE_scale_Avg' in obsData: # Some stations do not have precip\n",
    "        obs_p1, = host.plot(obs_ctime, obs_swe, label=\"SWE Observed\")\n",
    "    if ('SnowDepth' in obsData): # not all stations have snow depth\n",
    "        obs_p2, = par1.plot(obs_ctime, obs_SnowDepth, label=\"Snow Depth Observed\")\n",
    "    # par1.set_ylim(0, max([var2.max(),obs_SnowDepth]))\n",
    "    #else:\n",
    "    par1.set_ylim(0, var2.max())\n",
    "\n",
    "    #obs_p3, = par2.plot(ctime, var3, label=\"Snow Albedo (-)\")   \n",
    "\n",
    "    par2.set_ylim(0, 1)\n",
    "\n",
    "    host.legend()\n",
    "\n",
    "    host.axis[\"left\"].label.set_color(p1.get_color())\n",
    "    par1.axis[\"right\"].label.set_color(p2.get_color())\n",
    "    par2.axis[\"right\"].label.set_color(p3.get_color())\n",
    "\n",
    "    plt.title(cSta)\n",
    "    \n",
    "    # Try to rotate the time\n",
    "    #par1.axis[\"bottom\"].major_ticklabels.set_axis_direction(\"left\")\n",
    "    #par1.axis[\"bottom\"].major_ticklabels.set_rotation(90)"
   ]
  },
  {
   "cell_type": "code",
   "execution_count": null,
   "metadata": {
    "collapsed": false
   },
   "outputs": [],
   "source": [
    "# For Each station\n",
    "for cSta in Stations_all:\n",
    "    print(cSta)\n",
    "    ###### Import model output file\n",
    "    cfile = cSta + '_out.txt'\n",
    "    \n",
    "    # Import data to pandas dataframe\n",
    "    modData = pd.read_csv(cfile,sep=\",\",parse_dates=True) \n",
    "    modData.set_index('datetime',inplace=True)\n",
    "\n",
    "    # Make datetime the index\n",
    "    modData.index = pd.to_datetime(modData.index)\n",
    "    \n",
    "    # Convert CHM non-standard units \n",
    "    #datain['p']   = datain['p']/1000 # mm to m\n",
    "    #datain['swe'] = datain['swe']/1000 # mm to m\n",
    "    \n",
    "    # Get Telem Observation data\n",
    "    obsData = get_recent_CRHO_data_from_telem(cSta,telm_dir)\n",
    "\n",
    "    ###########################\n",
    "    # Plot key vars for station\n",
    "    ###########################\n",
    "    \n",
    "    plot_station_weather(modData,obsData)\n",
    "    \n",
    "    plot_station_snow_soil(modData,obsData)\n",
    "    plt.show()\n",
    "    "
   ]
  },
  {
   "cell_type": "code",
   "execution_count": null,
   "metadata": {
    "collapsed": false
   },
   "outputs": [],
   "source": []
  },
  {
   "cell_type": "code",
   "execution_count": null,
   "metadata": {
    "collapsed": false
   },
   "outputs": [],
   "source": []
  },
  {
   "cell_type": "code",
   "execution_count": null,
   "metadata": {
    "collapsed": true
   },
   "outputs": [],
   "source": []
  }
 ],
 "metadata": {
  "kernelspec": {
   "display_name": "Python 2",
   "language": "python",
   "name": "python2"
  },
  "language_info": {
   "codemirror_mode": {
    "name": "ipython",
    "version": 2
   },
   "file_extension": ".py",
   "mimetype": "text/x-python",
   "name": "python",
   "nbconvert_exporter": "python",
   "pygments_lexer": "ipython2",
   "version": "2.7.12"
  }
 },
 "nbformat": 4,
 "nbformat_minor": 0
}

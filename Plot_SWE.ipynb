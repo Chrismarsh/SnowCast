{
 "cells": [
  {
   "cell_type": "code",
   "execution_count": 28,
   "metadata": {
    "collapsed": true
   },
   "outputs": [],
   "source": [
    "%matplotlib inline\n",
    "from PIL import Image\n",
    "import os\n",
    "import numpy as np\n",
    "import pandas as pd\n",
    "import matplotlib.pyplot as plt\n",
    "import glob\n",
    "\n",
    "# Input Tif dir\n",
    "tif_dir   = os.path.normpath(r'/home/nwayand/snow_models/output_CHM/SnowCast/output')\n",
    "\n",
    "# Output png(?) dir\n",
    "#output_dir = os.path.normpath(r'C:\\Users\\new356\\Model_Output\\CHM\\SnowCast\\Saved')\n",
    "\n",
    "# Move to Tif dir\n",
    "os.chdir(tif_dir) \n",
    "\n",
    "# Loop though all files\n",
    "content = glob.glob('*_swe.tif') # Get list of files\n",
    "num_files = len(content)\n",
    "\n",
    "def plot_swe(df):\n",
    "    # Plot air temperature\n",
    "    plt.figure()\n",
    "    plt.imshow(df)\n",
    "    plt.clim(-10,25)\n",
    "    plt.colorbar(ticks=[np.arange(-10, 25,5)])\n",
    "\n",
    "def plot_air_temp(df):\n",
    "    # Plot air temperature\n",
    "    plt.figure()\n",
    "    plt.imshow(df)\n",
    "    plt.clim(-10,25)\n",
    "    plt.colorbar(ticks=[np.arange(-10, 25,5)])\n",
    "\n",
    "for cfile in content:\n",
    "    print(cfile)\n",
    "    im = Image.open(cfile)\n",
    "    var = np.array(im)\n",
    "    df = pd.DataFrame(var)\n",
    "    plot_air_temp(df)"
   ]
  },
  {
   "cell_type": "code",
   "execution_count": null,
   "metadata": {
    "collapsed": false
   },
   "outputs": [],
   "source": []
  },
  {
   "cell_type": "code",
   "execution_count": null,
   "metadata": {
    "collapsed": false
   },
   "outputs": [],
   "source": []
  },
  {
   "cell_type": "code",
   "execution_count": null,
   "metadata": {
    "collapsed": false
   },
   "outputs": [],
   "source": []
  },
  {
   "cell_type": "code",
   "execution_count": null,
   "metadata": {
    "collapsed": true
   },
   "outputs": [],
   "source": []
  }
 ],
 "metadata": {
  "kernelspec": {
   "display_name": "Python 3",
   "language": "python",
   "name": "python3"
  },
  "language_info": {
   "codemirror_mode": {
    "name": "ipython",
    "version": 3
   },
   "file_extension": ".py",
   "mimetype": "text/x-python",
   "name": "python",
   "nbconvert_exporter": "python",
   "pygments_lexer": "ipython3",
   "version": "3.5.1"
  }
 },
 "nbformat": 4,
 "nbformat_minor": 0
}

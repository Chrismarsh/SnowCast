{
 "cells": [
  {
   "cell_type": "code",
   "execution_count": 1,
   "metadata": {
    "collapsed": false
   },
   "outputs": [],
   "source": [
    "%matplotlib inline\n",
    "#mpld3.enable_notebook()\n",
    "import numpy as np\n",
    "import pandas as pd\n",
    "import matplotlib\n",
    "import matplotlib.pyplot as plt\n",
    "from datetime import datetime\n",
    "import xarray as xr\n",
    "from astropy.io import ascii\n",
    "import pytz\n",
    "# OS interaction\n",
    "import sys\n",
    "import os\n",
    "import glob\n",
    "import seaborn as sns\n",
    "sns.set_context(\"talk\",font_scale=1.5)\n",
    "sns.set_style('whitegrid')"
   ]
  },
  {
   "cell_type": "markdown",
   "metadata": {},
   "source": [
    "# User config"
   ]
  },
  {
   "cell_type": "code",
   "execution_count": 2,
   "metadata": {
    "collapsed": true
   },
   "outputs": [],
   "source": [
    "# Paths to user files\n",
    "data_dir = os.path.normpath(r'F:\\Work\\e\\Data\\Obs\\Canada_Project_Sites\\CSAS_data') # Where to store data on local computer"
   ]
  },
  {
   "cell_type": "markdown",
   "metadata": {},
   "source": [
    "# Create paths"
   ]
  },
  {
   "cell_type": "code",
   "execution_count": 3,
   "metadata": {
    "collapsed": true
   },
   "outputs": [],
   "source": [
    "AB_recent = os.path.join(data_dir,'AB_recent','netcdf','AB_NRT.nc')\n",
    "AB_POR    = os.path.join(data_dir,'AB_POR','netcdf','AB_SWE_SD_NRT.nc')\n",
    "BC_CWY    = os.path.join(data_dir,'BC_NRT','netcdf','BC_NRT.nc') # Current Water Year (CWR)"
   ]
  },
  {
   "cell_type": "code",
   "execution_count": 4,
   "metadata": {
    "collapsed": true
   },
   "outputs": [],
   "source": [
    "merged_dir = os.path.join(data_dir,'merged')\n",
    "# Make if does not exist\n",
    "if not os.path.exists(merged_dir):\n",
    "    os.makedirs(merged_dir)\n",
    "netcdf_file_out = os.path.join(merged_dir, 'Hourly_Merged.nc')"
   ]
  },
  {
   "cell_type": "markdown",
   "metadata": {},
   "source": [
    "# Merge Networks"
   ]
  },
  {
   "cell_type": "code",
   "execution_count": 5,
   "metadata": {
    "collapsed": false
   },
   "outputs": [],
   "source": [
    "ds_AB_recent = xr.open_dataset(AB_recent)\n",
    "ds_AB_POR    = xr.open_dataset(AB_POR)\n",
    "ds_BC_CWR    = xr.open_dataset(BC_CWY)"
   ]
  },
  {
   "cell_type": "code",
   "execution_count": 6,
   "metadata": {
    "collapsed": false
   },
   "outputs": [
    {
     "data": {
      "text/plain": [
       "<xarray.Dataset>\n",
       "Dimensions:       (Time_UTC: 315320, staID: 13)\n",
       "Coordinates:\n",
       "  * staID         (staID) object '05AA809' '05AA817' '05AD803' '05BB803' ...\n",
       "  * Time_UTC      (Time_UTC) datetime64[ns] 1983-12-07T04:40:00 ...\n",
       "    station_name  (staID) object 'Gardiner Creek' 'South Racehorse Creek' ...\n",
       "    Lat           (staID) float64 49.36 49.78 49.03 51.08 50.63 50.82 50.17 ...\n",
       "    Lon           (staID) float64 -114.5 -114.6 -114.1 -115.8 -115.3 -115.0 ...\n",
       "    Elevation     (staID) float64 1.97e+03 1.92e+03 1.761e+03 2.23e+03 ...\n",
       "    network       (staID) object 'environmentAlberta' 'environmentAlberta' ...\n",
       "Data variables:\n",
       "    SWE           (staID, Time_UTC) float64 nan nan nan nan nan nan nan nan ...\n",
       "    Snowdepth     (staID, Time_UTC) float64 nan nan nan nan nan nan nan nan ..."
      ]
     },
     "execution_count": 6,
     "metadata": {},
     "output_type": "execute_result"
    }
   ],
   "source": [
    "ds_AB_POR"
   ]
  },
  {
   "cell_type": "code",
   "execution_count": null,
   "metadata": {
    "collapsed": true
   },
   "outputs": [],
   "source": []
  },
  {
   "cell_type": "code",
   "execution_count": 7,
   "metadata": {
    "collapsed": false
   },
   "outputs": [],
   "source": [
    "# Merge AB data together (hist to midnight, and last few days)\n",
    "###### This step drops coords info so leaving out most recent data for now\n",
    "# ds_AB_mrg = ds_AB_POR.combine_first(ds_AB_recent)\n",
    "ds_AB_mrg = ds_AB_POR"
   ]
  },
  {
   "cell_type": "code",
   "execution_count": 8,
   "metadata": {
    "collapsed": false
   },
   "outputs": [],
   "source": [
    "ds_merged = xr.merge([ds_AB_mrg,ds_BC_CWR])"
   ]
  },
  {
   "cell_type": "code",
   "execution_count": 9,
   "metadata": {
    "collapsed": false
   },
   "outputs": [
    {
     "data": {
      "text/plain": [
       "<xarray.Dataset>\n",
       "Dimensions:         (Time_UTC: 315344, staID: 85)\n",
       "Coordinates:\n",
       "  * Time_UTC        (Time_UTC) datetime64[ns] 1983-12-07T04:40:00 ...\n",
       "  * staID           (staID) object '05AA809' '05AA817' '05AD803' '05BB803' ...\n",
       "    station_name    (staID) object 'Gardiner Creek' 'South Racehorse Creek' ...\n",
       "    Lat             (staID) float64 49.36 49.78 49.03 51.08 50.63 50.82 ...\n",
       "    Lon             (staID) float64 -114.5 -114.6 -114.1 -115.8 -115.3 ...\n",
       "    Elevation       (staID) float64 1.97e+03 1.92e+03 1.761e+03 2.23e+03 ...\n",
       "    network         (staID) object 'environmentAlberta' 'environmentAlberta' ...\n",
       "Data variables:\n",
       "    SWE             (staID, Time_UTC) float64 nan nan nan nan nan nan nan ...\n",
       "    Snowdepth       (staID, Time_UTC) float64 nan nan nan nan nan nan nan ...\n",
       "    AirTemperature  (staID, Time_UTC) float64 nan nan nan nan nan nan nan ...\n",
       "    Precipitation   (staID, Time_UTC) float64 nan nan nan nan nan nan nan ..."
      ]
     },
     "execution_count": 9,
     "metadata": {},
     "output_type": "execute_result"
    }
   ],
   "source": [
    "ds_merged"
   ]
  },
  {
   "cell_type": "code",
   "execution_count": 10,
   "metadata": {
    "collapsed": false
   },
   "outputs": [],
   "source": [
    "# Save as netcdf file\n",
    "ds_merged.to_netcdf(netcdf_file_out)"
   ]
  },
  {
   "cell_type": "code",
   "execution_count": 11,
   "metadata": {
    "collapsed": false
   },
   "outputs": [
    {
     "data": {
      "text/plain": [
       "{'bcRiverForecastCenter', 'environmentAlberta'}"
      ]
     },
     "execution_count": 11,
     "metadata": {},
     "output_type": "execute_result"
    }
   ],
   "source": [
    "set(ds_merged.network.values)"
   ]
  },
  {
   "cell_type": "code",
   "execution_count": null,
   "metadata": {
    "collapsed": true
   },
   "outputs": [],
   "source": []
  }
 ],
 "metadata": {
  "kernelspec": {
   "display_name": "Python 3",
   "language": "python",
   "name": "python3"
  },
  "language_info": {
   "codemirror_mode": {
    "name": "ipython",
    "version": 3
   },
   "file_extension": ".py",
   "mimetype": "text/x-python",
   "name": "python",
   "nbconvert_exporter": "python",
   "pygments_lexer": "ipython3",
   "version": "3.5.3"
  }
 },
 "nbformat": 4,
 "nbformat_minor": 0
}

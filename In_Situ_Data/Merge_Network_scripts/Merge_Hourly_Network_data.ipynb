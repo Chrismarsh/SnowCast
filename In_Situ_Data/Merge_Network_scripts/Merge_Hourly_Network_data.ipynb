{
 "cells": [
  {
   "cell_type": "code",
   "execution_count": null,
   "metadata": {
    "collapsed": false
   },
   "outputs": [],
   "source": [
    "%matplotlib inline\n",
    "#mpld3.enable_notebook()\n",
    "import numpy as np\n",
    "import pandas as pd\n",
    "import matplotlib\n",
    "import matplotlib.pyplot as plt\n",
    "from datetime import datetime\n",
    "import xarray as xr\n",
    "from astropy.io import ascii\n",
    "import pytz\n",
    "# OS interaction\n",
    "# import sys\n",
    "import os\n",
    "import glob\n",
    "import seaborn as sns\n",
    "sns.set_context(\"talk\",font_scale=1.5)\n",
    "sns.set_style('whitegrid')"
   ]
  },
  {
   "cell_type": "markdown",
   "metadata": {},
   "source": [
    "# User config"
   ]
  },
  {
   "cell_type": "code",
   "execution_count": null,
   "metadata": {
    "collapsed": true
   },
   "outputs": [],
   "source": [
    "# Paths to user files\n",
    "data_dir = os.path.normpath(r'F:\\Work\\e\\Data\\Obs\\Canada_Project_Sites\\CSAS_data') # Where to store data on local computer"
   ]
  },
  {
   "cell_type": "markdown",
   "metadata": {},
   "source": [
    "# Create paths"
   ]
  },
  {
   "cell_type": "code",
   "execution_count": null,
   "metadata": {
    "collapsed": false
   },
   "outputs": [],
   "source": [
    "AB_recent    = os.path.join(data_dir,'AB_recent','netcdf','AB_NRT.nc')\n",
    "AB_POR       = os.path.join(data_dir,'AB_POR','netcdf','AB_SWE_SD_NRT.nc')\n",
    "BC_CWY       = os.path.join(data_dir,'BC_NRT','netcdf','BC_NRT.nc') # Current Water Year (CWR)\n",
    "BC_HIST      = os.path.join(data_dir,'BC_HIST','netcdf','BC_HIST.nc')\n",
    "ABE_AGG_HIST = os.path.join(data_dir,'ABE_AGG_HIST','netcdf','ABE_AGG_HIST.nc') # MST\n",
    "CRHO         = r'C:\\Users\\new356\\Google Drive\\Nov2014 Data QC Completed Data\\CRHO_Combined_Netcdf\\CRHO_1hour.nc' # MST"
   ]
  },
  {
   "cell_type": "code",
   "execution_count": null,
   "metadata": {
    "collapsed": false
   },
   "outputs": [],
   "source": [
    "CRHO_time_zone = 7 # MST to UTC\n",
    "ABE_AGG_HIST_time_zone = 7 # MST to UTC"
   ]
  },
  {
   "cell_type": "code",
   "execution_count": null,
   "metadata": {
    "collapsed": true
   },
   "outputs": [],
   "source": [
    "merged_dir = os.path.join(data_dir,'merged')\n",
    "# Make if does not exist\n",
    "if not os.path.exists(merged_dir):\n",
    "    os.makedirs(merged_dir)\n",
    "netcdf_file_out = os.path.join(merged_dir, 'Hourly_Merged.nc')"
   ]
  },
  {
   "cell_type": "markdown",
   "metadata": {},
   "source": [
    "# Merge Networks"
   ]
  },
  {
   "cell_type": "code",
   "execution_count": null,
   "metadata": {
    "collapsed": false
   },
   "outputs": [],
   "source": [
    "ds_AB_recent = xr.open_dataset(AB_recent)\n",
    "ds_AB_POR    = xr.open_dataset(AB_POR)\n",
    "ds_BC_CWR    = xr.open_dataset(BC_CWY)\n",
    "ds_BC_HIST   = xr.open_dataset(BC_HIST)\n",
    "ds_CRHO      = xr.open_dataset(CRHO)\n",
    "ds_ABE_AGG   = xr.open_dataset(ABE_AGG_HIST)"
   ]
  },
  {
   "cell_type": "code",
   "execution_count": null,
   "metadata": {
    "collapsed": false
   },
   "outputs": [],
   "source": []
  },
  {
   "cell_type": "code",
   "execution_count": null,
   "metadata": {
    "collapsed": false
   },
   "outputs": [],
   "source": [
    "# for csta in ds_ABE_AGG.staID:\n",
    "#     x = ds_ABE_AGG.WindSpeed.sel(staID=csta)\n",
    "#     if x.notnull().sum(dim='Time_MST')>0:\n",
    "#         plt.plot(ds_ABE_AGG.Time_MST, x)\n",
    "#         plt.ylim([0,360])"
   ]
  },
  {
   "cell_type": "code",
   "execution_count": null,
   "metadata": {
    "collapsed": false
   },
   "outputs": [],
   "source": [
    "# Make all datasets same time zone and variable names\n",
    "# All to MST\n",
    "ds_CRHO['time_hrly'] = ds_CRHO['time_hrly'] + np.timedelta64(CRHO_time_zone,'h')\n",
    "ds_CRHO.rename({'station':'staID','time_hrly':'Time_UTC'}, inplace=True);\n",
    "\n",
    "ds_ABE_AGG['Time_MST'] = ds_ABE_AGG['Time_MST'] + np.timedelta64(ABE_AGG_HIST_time_zone,'h')\n",
    "ds_ABE_AGG.rename({'Time_MST':'Time_UTC'}, inplace=True);"
   ]
  },
  {
   "cell_type": "code",
   "execution_count": null,
   "metadata": {
    "collapsed": false
   },
   "outputs": [],
   "source": [
    "list(ds_CRHO.data_vars)"
   ]
  },
  {
   "cell_type": "code",
   "execution_count": null,
   "metadata": {
    "collapsed": false
   },
   "outputs": [],
   "source": [
    "# Drop CRHO variables we are not interested in (still in orig file if we want them)\n",
    "ds_CRHO = ds_CRHO[['WindDirectionatA',\n",
    " 'TotalPressureUnadjustedA',\n",
    " 'DownwardSolarRadiation',\n",
    " 'ScalarWindSpeedA',\n",
    " 'SnowDepthA',\n",
    " 'AirtemperatureA',\n",
    " 'IncrementalPrecipitationA',\n",
    " 'UpwardSolarRadiation',\n",
    " 'AirMoistureContentA',\n",
    " 'UpwardTerrestrialRad',\n",
    " 'DownwardTerrestrialRad',\n",
    " 'SnowWaterEquivelentA']]"
   ]
  },
  {
   "cell_type": "code",
   "execution_count": null,
   "metadata": {
    "collapsed": true
   },
   "outputs": [],
   "source": []
  },
  {
   "cell_type": "code",
   "execution_count": null,
   "metadata": {
    "collapsed": false
   },
   "outputs": [],
   "source": []
  },
  {
   "cell_type": "code",
   "execution_count": null,
   "metadata": {
    "collapsed": false
   },
   "outputs": [],
   "source": []
  },
  {
   "cell_type": "code",
   "execution_count": null,
   "metadata": {
    "collapsed": false
   },
   "outputs": [],
   "source": [
    "orig_coords = ['Lat','Lon','Elevation','network','station_name'] # combine_first() can't handel coords merging"
   ]
  },
  {
   "cell_type": "code",
   "execution_count": null,
   "metadata": {
    "collapsed": false
   },
   "outputs": [],
   "source": [
    "ds_AB_recent.reset_coords(orig_coords, inplace=True);\n",
    "ds_AB_POR.reset_coords(orig_coords, inplace=True);\n",
    "ds_BC_CWR.reset_coords(orig_coords, inplace=True);\n",
    "ds_BC_HIST.reset_coords(orig_coords, inplace=True);\n",
    "ds_CRHO.reset_coords(orig_coords, inplace=True);\n",
    "ds_ABE_AGG.reset_coords(orig_coords, inplace=True);"
   ]
  },
  {
   "cell_type": "code",
   "execution_count": null,
   "metadata": {
    "collapsed": false
   },
   "outputs": [],
   "source": [
    "# Merge AB data together (hist to midnight, and last few days)\n",
    "###### This step drops coords info so leaving out most recent data for now\n",
    "ds_AB_mrg = ds_AB_POR.combine_first(ds_AB_recent)\n",
    "# ds_AB_mrg = ds_AB_POR"
   ]
  },
  {
   "cell_type": "code",
   "execution_count": null,
   "metadata": {
    "collapsed": true
   },
   "outputs": [],
   "source": [
    "# Merge BC stations\n",
    "ds_BC_merg = xr.merge([ds_BC_HIST, ds_BC_CWR])\n",
    "ds_BC_HIST = None\n",
    "ds_BC_CWR = None"
   ]
  },
  {
   "cell_type": "code",
   "execution_count": null,
   "metadata": {
    "collapsed": false
   },
   "outputs": [],
   "source": [
    "# Merge AB and BC pillows\n",
    "ds_BC_AB = xr.merge([ds_AB_mrg,ds_BC_merg])\n",
    "ds_AB_mrg = None\n",
    "ds_BC_merg = None"
   ]
  },
  {
   "cell_type": "code",
   "execution_count": null,
   "metadata": {
    "collapsed": false
   },
   "outputs": [],
   "source": [
    "ds_BC_AB"
   ]
  },
  {
   "cell_type": "code",
   "execution_count": null,
   "metadata": {
    "collapsed": false
   },
   "outputs": [],
   "source": [
    "# Rename BC AB naming to match CRHO name format\n",
    "var_dict = {'AirTemperature':'AirtemperatureA','Precipitation':'CummulativePrecipitationA',\n",
    "            'SWE':'SnowWaterEquivelentA','Snowdepth':'SnowDepthA'}\n",
    "\n",
    "ds_BC_AB.rename(var_dict, inplace=True);"
   ]
  },
  {
   "cell_type": "code",
   "execution_count": null,
   "metadata": {
    "collapsed": false
   },
   "outputs": [],
   "source": []
  },
  {
   "cell_type": "code",
   "execution_count": null,
   "metadata": {
    "collapsed": false
   },
   "outputs": [],
   "source": [
    "# Adjust units to be metric standard\n",
    "ds_BC_AB['SnowWaterEquivelentA'] = ds_BC_AB.SnowWaterEquivelentA / 1000 # mm to m\n",
    "ds_BC_AB['CummulativePrecipitationA'] = ds_BC_AB.CummulativePrecipitationA / 1000 # mm to m\n",
    "ds_BC_AB['SnowDepthA'] = ds_BC_AB.SnowDepthA / 100 # cm to m"
   ]
  },
  {
   "cell_type": "code",
   "execution_count": null,
   "metadata": {
    "collapsed": false
   },
   "outputs": [],
   "source": []
  },
  {
   "cell_type": "code",
   "execution_count": null,
   "metadata": {
    "collapsed": false
   },
   "outputs": [],
   "source": [
    "# Merge CRHO with other AB and BC data\n",
    "ds_merged = xr.merge([ds_CRHO,ds_BC_AB])\n",
    "ds_CRHO = None\n",
    "ds_BC_AB = None"
   ]
  },
  {
   "cell_type": "code",
   "execution_count": null,
   "metadata": {
    "collapsed": false
   },
   "outputs": [],
   "source": []
  },
  {
   "cell_type": "code",
   "execution_count": null,
   "metadata": {
    "collapsed": false
   },
   "outputs": [],
   "source": [
    "# for cs in ds_ABE_AGG.staID:\n",
    "#     x = ds_ABE_AGG.Precipitation.sel(staID=cs)\n",
    "#     if x.notnull().sum()>0:\n",
    "#         plt.plot(x.Time_UTC, x.cumsum(dim='Time_UTC'), label=(str(cs)));"
   ]
  },
  {
   "cell_type": "code",
   "execution_count": null,
   "metadata": {
    "collapsed": false
   },
   "outputs": [],
   "source": []
  },
  {
   "cell_type": "code",
   "execution_count": null,
   "metadata": {
    "collapsed": true
   },
   "outputs": [],
   "source": [
    "# Rename ds_ABE_AGG naming to match CRHO name format\n",
    "var_dict = {'RealtiveHumidity':'AirMoistureContentA','WindSpeed':'ScalarWindSpeedA','WindDirection':'WindDirectionatA',\n",
    "            'AirTemperature':'AirtemperatureA','Precipitation':'IncrementalPrecipitationA',}\n",
    "ds_ABE_AGG.rename(var_dict, inplace=True);"
   ]
  },
  {
   "cell_type": "code",
   "execution_count": null,
   "metadata": {
    "collapsed": false
   },
   "outputs": [],
   "source": [
    "# Adjust units to be metric standard\n",
    "ds_ABE_AGG['IncrementalPrecipitationA'] = ds_ABE_AGG.IncrementalPrecipitationA / 1000 # mm to m"
   ]
  },
  {
   "cell_type": "code",
   "execution_count": null,
   "metadata": {
    "collapsed": false
   },
   "outputs": [],
   "source": [
    "def find_common_staID(ds1,ds2):\n",
    "    same = list(set(list(ds1.staID.values)).intersection(list(ds2.staID.values)))\n",
    "    return(ds1.sel(staID=same).station_name)\n",
    "    # Usage find_common_staID(ds_ABE_AGG,ds_merged)"
   ]
  },
  {
   "cell_type": "code",
   "execution_count": null,
   "metadata": {
    "collapsed": false
   },
   "outputs": [],
   "source": [
    "ds_ABE_AGG"
   ]
  },
  {
   "cell_type": "code",
   "execution_count": null,
   "metadata": {
    "collapsed": false
   },
   "outputs": [],
   "source": [
    "ds_merged"
   ]
  },
  {
   "cell_type": "code",
   "execution_count": null,
   "metadata": {
    "collapsed": false
   },
   "outputs": [],
   "source": []
  },
  {
   "cell_type": "code",
   "execution_count": null,
   "metadata": {
    "collapsed": false
   },
   "outputs": [],
   "source": []
  },
  {
   "cell_type": "code",
   "execution_count": null,
   "metadata": {
    "collapsed": false
   },
   "outputs": [],
   "source": [
    "# Merge ds_merged with ds_ABE_AGG \n",
    "# Use combine_first because there are duplicate stations (met vars and snow vars)\n",
    "# ds_merged_2 = xr.merge([ds_merged, ds_ABE_AGG])\n",
    "ds_merged_2 = ds_ABE_AGG.combine_first(ds_merged)\n",
    "ds_merged = None\n",
    "ds_ABE_AGG = None"
   ]
  },
  {
   "cell_type": "code",
   "execution_count": null,
   "metadata": {
    "collapsed": false
   },
   "outputs": [],
   "source": []
  },
  {
   "cell_type": "code",
   "execution_count": null,
   "metadata": {
    "collapsed": false
   },
   "outputs": [],
   "source": [
    "ds_merged_2"
   ]
  },
  {
   "cell_type": "code",
   "execution_count": null,
   "metadata": {
    "collapsed": false
   },
   "outputs": [],
   "source": []
  },
  {
   "cell_type": "code",
   "execution_count": null,
   "metadata": {
    "collapsed": true
   },
   "outputs": [],
   "source": []
  },
  {
   "cell_type": "code",
   "execution_count": null,
   "metadata": {
    "collapsed": false
   },
   "outputs": [],
   "source": [
    "# Set coords\n",
    "ds_merged_2.set_coords(orig_coords, inplace=True);"
   ]
  },
  {
   "cell_type": "code",
   "execution_count": null,
   "metadata": {
    "collapsed": false
   },
   "outputs": [],
   "source": [
    "# ds_merged.Time_UTC.diff(dim='Time_UTC').plot()"
   ]
  },
  {
   "cell_type": "code",
   "execution_count": null,
   "metadata": {
    "collapsed": false
   },
   "outputs": [],
   "source": []
  },
  {
   "cell_type": "code",
   "execution_count": null,
   "metadata": {
    "collapsed": false
   },
   "outputs": [],
   "source": []
  },
  {
   "cell_type": "code",
   "execution_count": null,
   "metadata": {
    "collapsed": true
   },
   "outputs": [],
   "source": []
  },
  {
   "cell_type": "code",
   "execution_count": null,
   "metadata": {
    "collapsed": false
   },
   "outputs": [],
   "source": [
    "# Save as netcdf file\n",
    "ds_merged_3.to_netcdf(netcdf_file_out)\n",
    "print(netcdf_file_out)"
   ]
  },
  {
   "cell_type": "code",
   "execution_count": null,
   "metadata": {
    "collapsed": false
   },
   "outputs": [],
   "source": [
    "# set(ds_merged.network.values)"
   ]
  },
  {
   "cell_type": "code",
   "execution_count": null,
   "metadata": {
    "collapsed": true
   },
   "outputs": [],
   "source": []
  }
 ],
 "metadata": {
  "kernelspec": {
   "display_name": "Python 3",
   "language": "python",
   "name": "python3"
  },
  "language_info": {
   "codemirror_mode": {
    "name": "ipython",
    "version": 3
   },
   "file_extension": ".py",
   "mimetype": "text/x-python",
   "name": "python",
   "nbconvert_exporter": "python",
   "pygments_lexer": "ipython3",
   "version": "3.5.3"
  }
 },
 "nbformat": 4,
 "nbformat_minor": 0
}

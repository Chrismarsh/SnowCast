{
 "cells": [
  {
   "cell_type": "code",
   "execution_count": 2,
   "metadata": {
    "collapsed": true
   },
   "outputs": [],
   "source": [
    "import xarray as xr\n",
    "import os\n",
    "import glob"
   ]
  },
  {
   "cell_type": "code",
   "execution_count": 5,
   "metadata": {
    "collapsed": true
   },
   "outputs": [],
   "source": [
    "file_dir = r'C:\\Users\\new356\\Desktop\\test\\*.nc'"
   ]
  },
  {
   "cell_type": "code",
   "execution_count": 22,
   "metadata": {
    "collapsed": false
   },
   "outputs": [
    {
     "name": "stdout",
     "output_type": "stream",
     "text": [
      "['C:\\\\Users\\\\new356\\\\Desktop\\\\test\\\\bc65.nc', 'C:\\\\Users\\\\new356\\\\Desktop\\\\test\\\\bo107.nc']\n"
     ]
    }
   ],
   "source": [
    "files_in = glob.glob(file_dir)\n",
    "print(files_in)"
   ]
  },
  {
   "cell_type": "code",
   "execution_count": 23,
   "metadata": {
    "collapsed": false
   },
   "outputs": [],
   "source": [
    "def swap_dim(x):\n",
    "    x.swap_dims({'station_observations':'time'},inplace=True)\n",
    "    return x"
   ]
  },
  {
   "cell_type": "code",
   "execution_count": 43,
   "metadata": {
    "collapsed": false
   },
   "outputs": [
    {
     "ename": "MergeError",
     "evalue": "conflicting values for variable 'TMin' on objects to be combined:\nfirst value: <xarray.Variable (time: 3067)>\narray([  5.1,   8.6,   5.4, ...,  11.9,  13.1,  11.8])\nAttributes:\n    display_name:   Temperature (Min.)\n    name:           TMin\n    cell_method:    time: minimum\n    long_name:      Minimum temperature\n    standard_name:  air_temperature\n    units:          celsius\n    type:           Float64\n    axis:           Y\nsecond value: <xarray.Variable (time: 3067)>\narray([     nan,      nan,      nan, ...,  10.5   ,   9.0556,   8.8333])\nAttributes:\n    display_name:   Temperature (Min.)\n    name:           TMin\n    cell_method:    time: minimum\n    long_name:      Minimum temperature\n    standard_name:  air_temperature\n    units:          celsius\n    type:           Float64\n    axis:           Y",
     "output_type": "error",
     "traceback": [
      "\u001b[1;31m---------------------------------------------------------------------------\u001b[0m",
      "\u001b[1;31mMergeError\u001b[0m                                Traceback (most recent call last)",
      "\u001b[1;32m<ipython-input-43-c978e04f1061>\u001b[0m in \u001b[0;36m<module>\u001b[1;34m()\u001b[0m\n\u001b[0;32m      3\u001b[0m \u001b[0mds1\u001b[0m\u001b[1;33m.\u001b[0m\u001b[0mattrs\u001b[0m \u001b[1;33m=\u001b[0m \u001b[1;33m{\u001b[0m\u001b[1;33m}\u001b[0m\u001b[1;33m\u001b[0m\u001b[0m\n\u001b[0;32m      4\u001b[0m \u001b[0mds2\u001b[0m\u001b[1;33m.\u001b[0m\u001b[0mattrs\u001b[0m \u001b[1;33m=\u001b[0m \u001b[1;33m{\u001b[0m\u001b[1;33m}\u001b[0m\u001b[1;33m\u001b[0m\u001b[0m\n\u001b[1;32m----> 5\u001b[1;33m \u001b[0mds\u001b[0m \u001b[1;33m=\u001b[0m \u001b[0mxr\u001b[0m\u001b[1;33m.\u001b[0m\u001b[0mmerge\u001b[0m\u001b[1;33m(\u001b[0m\u001b[1;33m[\u001b[0m\u001b[0mds1\u001b[0m\u001b[1;33m,\u001b[0m\u001b[0mds2\u001b[0m\u001b[1;33m]\u001b[0m\u001b[1;33m)\u001b[0m\u001b[1;33m\u001b[0m\u001b[0m\n\u001b[0m\u001b[0;32m      6\u001b[0m \u001b[0mds\u001b[0m\u001b[1;33m\u001b[0m\u001b[0m\n",
      "\u001b[1;32mC:\\Users\\new356\\Anaconda3\\lib\\site-packages\\xarray\\core\\merge.py\u001b[0m in \u001b[0;36mmerge\u001b[1;34m(objects, compat, join)\u001b[0m\n\u001b[0;32m    496\u001b[0m                          for obj in objects]\n\u001b[0;32m    497\u001b[0m \u001b[1;33m\u001b[0m\u001b[0m\n\u001b[1;32m--> 498\u001b[1;33m     \u001b[0mvariables\u001b[0m\u001b[1;33m,\u001b[0m \u001b[0mcoord_names\u001b[0m\u001b[1;33m,\u001b[0m \u001b[0mdims\u001b[0m \u001b[1;33m=\u001b[0m \u001b[0mmerge_core\u001b[0m\u001b[1;33m(\u001b[0m\u001b[0mdict_like_objects\u001b[0m\u001b[1;33m,\u001b[0m \u001b[0mcompat\u001b[0m\u001b[1;33m,\u001b[0m \u001b[0mjoin\u001b[0m\u001b[1;33m)\u001b[0m\u001b[1;33m\u001b[0m\u001b[0m\n\u001b[0m\u001b[0;32m    499\u001b[0m     \u001b[0mmerged\u001b[0m \u001b[1;33m=\u001b[0m \u001b[0mDataset\u001b[0m\u001b[1;33m.\u001b[0m\u001b[0m_construct_direct\u001b[0m\u001b[1;33m(\u001b[0m\u001b[0mvariables\u001b[0m\u001b[1;33m,\u001b[0m \u001b[0mcoord_names\u001b[0m\u001b[1;33m,\u001b[0m \u001b[0mdims\u001b[0m\u001b[1;33m)\u001b[0m\u001b[1;33m\u001b[0m\u001b[0m\n\u001b[0;32m    500\u001b[0m \u001b[1;33m\u001b[0m\u001b[0m\n",
      "\u001b[1;32mC:\\Users\\new356\\Anaconda3\\lib\\site-packages\\xarray\\core\\merge.py\u001b[0m in \u001b[0;36mmerge_core\u001b[1;34m(objs, compat, join, priority_arg, explicit_coords, indexes)\u001b[0m\n\u001b[0;32m    419\u001b[0m \u001b[1;33m\u001b[0m\u001b[0m\n\u001b[0;32m    420\u001b[0m     \u001b[0mpriority_vars\u001b[0m \u001b[1;33m=\u001b[0m \u001b[0m_get_priority_vars\u001b[0m\u001b[1;33m(\u001b[0m\u001b[0maligned\u001b[0m\u001b[1;33m,\u001b[0m \u001b[0mpriority_arg\u001b[0m\u001b[1;33m,\u001b[0m \u001b[0mcompat\u001b[0m\u001b[1;33m=\u001b[0m\u001b[0mcompat\u001b[0m\u001b[1;33m)\u001b[0m\u001b[1;33m\u001b[0m\u001b[0m\n\u001b[1;32m--> 421\u001b[1;33m     \u001b[0mvariables\u001b[0m \u001b[1;33m=\u001b[0m \u001b[0mmerge_variables\u001b[0m\u001b[1;33m(\u001b[0m\u001b[0mexpanded\u001b[0m\u001b[1;33m,\u001b[0m \u001b[0mpriority_vars\u001b[0m\u001b[1;33m,\u001b[0m \u001b[0mcompat\u001b[0m\u001b[1;33m=\u001b[0m\u001b[0mcompat\u001b[0m\u001b[1;33m)\u001b[0m\u001b[1;33m\u001b[0m\u001b[0m\n\u001b[0m\u001b[0;32m    422\u001b[0m     \u001b[0massert_unique_multiindex_level_names\u001b[0m\u001b[1;33m(\u001b[0m\u001b[0mvariables\u001b[0m\u001b[1;33m)\u001b[0m\u001b[1;33m\u001b[0m\u001b[0m\n\u001b[0;32m    423\u001b[0m \u001b[1;33m\u001b[0m\u001b[0m\n",
      "\u001b[1;32mC:\\Users\\new356\\Anaconda3\\lib\\site-packages\\xarray\\core\\merge.py\u001b[0m in \u001b[0;36mmerge_variables\u001b[1;34m(list_of_variables_dicts, priority_vars, compat)\u001b[0m\n\u001b[0;32m    164\u001b[0m             \u001b[1;32melse\u001b[0m\u001b[1;33m:\u001b[0m\u001b[1;33m\u001b[0m\u001b[0m\n\u001b[0;32m    165\u001b[0m                 \u001b[1;32mtry\u001b[0m\u001b[1;33m:\u001b[0m\u001b[1;33m\u001b[0m\u001b[0m\n\u001b[1;32m--> 166\u001b[1;33m                     \u001b[0mmerged\u001b[0m\u001b[1;33m[\u001b[0m\u001b[0mname\u001b[0m\u001b[1;33m]\u001b[0m \u001b[1;33m=\u001b[0m \u001b[0munique_variable\u001b[0m\u001b[1;33m(\u001b[0m\u001b[0mname\u001b[0m\u001b[1;33m,\u001b[0m \u001b[0mvariables\u001b[0m\u001b[1;33m,\u001b[0m \u001b[0mcompat\u001b[0m\u001b[1;33m)\u001b[0m\u001b[1;33m\u001b[0m\u001b[0m\n\u001b[0m\u001b[0;32m    167\u001b[0m                 \u001b[1;32mexcept\u001b[0m \u001b[0mMergeError\u001b[0m\u001b[1;33m:\u001b[0m\u001b[1;33m\u001b[0m\u001b[0m\n\u001b[0;32m    168\u001b[0m                     \u001b[1;32mif\u001b[0m \u001b[0mcompat\u001b[0m \u001b[1;33m!=\u001b[0m \u001b[1;34m'minimal'\u001b[0m\u001b[1;33m:\u001b[0m\u001b[1;33m\u001b[0m\u001b[0m\n",
      "\u001b[1;32mC:\\Users\\new356\\Anaconda3\\lib\\site-packages\\xarray\\core\\merge.py\u001b[0m in \u001b[0;36munique_variable\u001b[1;34m(name, variables, compat)\u001b[0m\n\u001b[0;32m     83\u001b[0m                                  \u001b[1;34m'objects to be combined:\\n'\u001b[0m\u001b[1;33m\u001b[0m\u001b[0m\n\u001b[0;32m     84\u001b[0m                                  \u001b[1;34m'first value: %r\\nsecond value: %r'\u001b[0m\u001b[1;33m\u001b[0m\u001b[0m\n\u001b[1;32m---> 85\u001b[1;33m                                  % (name, out, var))\n\u001b[0m\u001b[0;32m     86\u001b[0m             \u001b[1;32mif\u001b[0m \u001b[0mcombine_method\u001b[0m\u001b[1;33m:\u001b[0m\u001b[1;33m\u001b[0m\u001b[0m\n\u001b[0;32m     87\u001b[0m                 \u001b[1;31m# TODO: add preservation of attrs into fillna\u001b[0m\u001b[1;33m\u001b[0m\u001b[1;33m\u001b[0m\u001b[0m\n",
      "\u001b[1;31mMergeError\u001b[0m: conflicting values for variable 'TMin' on objects to be combined:\nfirst value: <xarray.Variable (time: 3067)>\narray([  5.1,   8.6,   5.4, ...,  11.9,  13.1,  11.8])\nAttributes:\n    display_name:   Temperature (Min.)\n    name:           TMin\n    cell_method:    time: minimum\n    long_name:      Minimum temperature\n    standard_name:  air_temperature\n    units:          celsius\n    type:           Float64\n    axis:           Y\nsecond value: <xarray.Variable (time: 3067)>\narray([     nan,      nan,      nan, ...,  10.5   ,   9.0556,   8.8333])\nAttributes:\n    display_name:   Temperature (Min.)\n    name:           TMin\n    cell_method:    time: minimum\n    long_name:      Minimum temperature\n    standard_name:  air_temperature\n    units:          celsius\n    type:           Float64\n    axis:           Y"
     ]
    }
   ],
   "source": [
    "ds1 = swap_dim(xr.open_dataset(files_in[0]))\n",
    "ds2 = swap_dim(xr.open_dataset(files_in[1]))\n",
    "ds1.attrs = {}\n",
    "ds2.attrs = {}\n",
    "ds = xr.concat([ds1,ds2])\n",
    "ds"
   ]
  },
  {
   "cell_type": "code",
   "execution_count": 41,
   "metadata": {
    "collapsed": false
   },
   "outputs": [],
   "source": []
  },
  {
   "cell_type": "code",
   "execution_count": 42,
   "metadata": {
    "collapsed": false
   },
   "outputs": [
    {
     "data": {
      "text/plain": [
       "<xarray.Dataset>\n",
       "Dimensions:  (time: 3062)\n",
       "Coordinates:\n",
       "  * time     (time) datetime64[ns] 2002-04-20 2002-04-21 2002-04-22 ...\n",
       "Data variables:\n",
       "    TMin     (time) float64 5.1 8.6 5.4 1.4 0.4 1.5 4.8 0.1 -0.1 3.0 6.0 5.8 ...\n",
       "    TMax     (time) float64 13.7 11.4 12.2 12.5 12.0 14.6 10.4 17.9 16.0 ...\n",
       "    Prec     (time) float64 0.0 0.0 0.3 0.0 0.0 0.0 13.4 0.0 0.0 0.0 0.0 0.0 ..."
      ]
     },
     "execution_count": 42,
     "metadata": {},
     "output_type": "execute_result"
    }
   ],
   "source": [
    "ds1"
   ]
  },
  {
   "cell_type": "code",
   "execution_count": 26,
   "metadata": {
    "collapsed": false
   },
   "outputs": [
    {
     "data": {
      "text/plain": [
       "<xarray.Dataset>\n",
       "Dimensions:  (time: 4509)\n",
       "Coordinates:\n",
       "  * time     (time) datetime64[ns] 2002-04-20 2002-04-21 2002-04-22 ...\n",
       "Data variables:\n",
       "    TMin     (time) float64 5.1 8.6 5.4 1.4 0.4 1.5 4.8 0.1 -0.1 3.0 6.0 5.8 ...\n",
       "    TMax     (time) float64 13.7 11.4 12.2 12.5 12.0 14.6 10.4 17.9 16.0 ...\n",
       "    Prec     (time) float64 0.0 0.0 0.3 0.0 0.0 0.0 13.4 0.0 0.0 0.0 0.0 0.0 ...\n",
       "Attributes:\n",
       "    elevation:     100.0\n",
       "    name:          CRMP/AGRI\n",
       "    station_id:    bc65\n",
       "    latitude:      49.0725\n",
       "    contact:       Faron Anslow <fanslow@uvic.ca>\n",
       "    longitude:     -122.146\n",
       "    version:       0.2\n",
       "    owner:         PCIC\n",
       "    station_name:  Sumas Prairie\n",
       "    history:       Created dynamically by the Pydap SQL handler, the Pydap PC...\n",
       "    network:       AGRI"
      ]
     },
     "execution_count": 26,
     "metadata": {},
     "output_type": "execute_result"
    }
   ],
   "source": [
    "ds = xr.open_mfdataset(files_in, preprocess=lambda x: x.swap_dims({'station_observations':'time'}, inplace=True) )\n",
    "ds"
   ]
  },
  {
   "cell_type": "code",
   "execution_count": null,
   "metadata": {
    "collapsed": true
   },
   "outputs": [],
   "source": []
  },
  {
   "cell_type": "code",
   "execution_count": null,
   "metadata": {
    "collapsed": true
   },
   "outputs": [],
   "source": []
  }
 ],
 "metadata": {
  "kernelspec": {
   "display_name": "Python 3",
   "language": "python",
   "name": "python3"
  },
  "language_info": {
   "codemirror_mode": {
    "name": "ipython",
    "version": 3
   },
   "file_extension": ".py",
   "mimetype": "text/x-python",
   "name": "python",
   "nbconvert_exporter": "python",
   "pygments_lexer": "ipython3",
   "version": "3.5.3"
  }
 },
 "nbformat": 4,
 "nbformat_minor": 0
}

{
 "cells": [
  {
   "cell_type": "code",
   "execution_count": null,
   "metadata": {
    "collapsed": true
   },
   "outputs": [],
   "source": [
    "%matplotlib inline\n",
    "#mpld3.enable_notebook()\n",
    "import numpy as np\n",
    "import pandas as pd\n",
    "import matplotlib\n",
    "import matplotlib.pyplot as plt\n",
    "from datetime import datetime\n",
    "import xarray as xr\n",
    "from astropy.io import ascii\n",
    "import pytz\n",
    "# OS interaction\n",
    "import sys\n",
    "import os\n",
    "import glob\n",
    "import wget\n",
    "import seaborn as sns\n",
    "sns.set_context(\"talk\",font_scale=1.5)\n",
    "sns.set_style('whitegrid')"
   ]
  },
  {
   "cell_type": "markdown",
   "metadata": {},
   "source": [
    "# User config"
   ]
  },
  {
   "cell_type": "code",
   "execution_count": null,
   "metadata": {
    "collapsed": true
   },
   "outputs": [],
   "source": [
    "# Paths to user files\n",
    "data_dir = os.path.normpath(r'F:\\Work\\e\\Data\\Obs\\Canada_Project_Sites\\CSAS_data') # Where to store data on local computer\n",
    "git_dir  = os.path.normpath(r'C:\\Users\\new356\\Google Drive\\Python\\SnowCast\\In_Situ_Data') # This repo"
   ]
  },
  {
   "cell_type": "markdown",
   "metadata": {},
   "source": [
    "# Create paths"
   ]
  },
  {
   "cell_type": "code",
   "execution_count": null,
   "metadata": {
    "collapsed": true
   },
   "outputs": [],
   "source": [
    "# Data network\n",
    "network = 'EC_Snow_Courses'\n",
    "\n",
    "# Location to download historical AB station data\n",
    "download_dir = os.path.join(data_dir,network,'current')\n",
    "# Make if does not exist\n",
    "if not os.path.exists(download_dir):\n",
    "    os.makedirs(download_dir)\n",
    "    \n",
    "# Netcdf file to save to\n",
    "netcdf_dir   = os.path.join(data_dir,network,'netcdf')\n",
    "# Make if does not exist\n",
    "if not os.path.exists(netcdf_dir):\n",
    "    os.makedirs(netcdf_dir)\n",
    "netcdf_file_out =  os.path.join(netcdf_dir,'EC_Snow_Courses.nc')\n",
    "\n",
    "# # Metadata for AB pillows \n",
    "meta_file         = 'ABE_AGG_Station_Metadata.csv'\n",
    "meta_file_path    = os.path.join(git_dir,'metadata',meta_file)"
   ]
  },
  {
   "cell_type": "code",
   "execution_count": null,
   "metadata": {
    "collapsed": true
   },
   "outputs": [],
   "source": [
    "os.chdir(download_dir)"
   ]
  },
  {
   "cell_type": "code",
   "execution_count": null,
   "metadata": {
    "collapsed": false
   },
   "outputs": [],
   "source": [
    "vars_in = {'SD-SS':'SnowDepth_point','SW-SS':'SWE_point'}\n",
    "unit_dict = {'SnowDepth_point':'m','SWE_point':'m'}\n",
    "parse = lambda x: datetime.strptime(x, '%Y%m%d %H%M%S')"
   ]
  },
  {
   "cell_type": "code",
   "execution_count": null,
   "metadata": {
    "collapsed": false
   },
   "outputs": [],
   "source": [
    "var_temp = []\n",
    "for cvar in vars_in.keys():\n",
    "    # Get list of files\n",
    "    c_files = glob.glob('*'+cvar+'*.csv')\n",
    "    \n",
    "    da_temp = []\n",
    "    # Loop through files\n",
    "    for cf in c_files:\n",
    "#         print(cf)\n",
    "        # Load into a dataframe\n",
    "        df_dat = pd.read_csv(cf,index_col=0, skiprows=15, engine='python', parse_dates = [['Date', 'Time']])\n",
    "        df_dat = df_dat.convert_objects(convert_numeric=True) # Force to floats\n",
    "        df_dat.index.name = 'Time_UTC'\n",
    "        \n",
    "        df_hdr_raw = pd.read_csv(cf, nrows=14)\n",
    "\n",
    "        # Clean up messy header info\n",
    "        df_hdr = df_hdr_raw.copy()\n",
    "        for i2, row in df_hdr_raw.iterrows():\n",
    "            df_hdr.loc[i2] = row.str.split(r'\\t').str[1]\n",
    "            \n",
    "        # Get info\n",
    "        cstaID = df_hdr.iloc[1].item()\n",
    "        csta_lat = float(df_hdr.iloc[13].item())\n",
    "        csta_lon = float(df_hdr.iloc[12].item())\n",
    "        csta_name = df_hdr.iloc[0].item()\n",
    "        \n",
    "        # Drop rows with bad times (NAT)\n",
    "        df_dat = df_dat[pd.notnull(df_dat.index)]\n",
    "        \n",
    "        # Convert to Da\n",
    "        da = xr.DataArray.from_series(df_dat.iloc[:, 0]) # coords={'Time_UTC':df_dat.index, 'staID':cstaID}, dims=('Time_UTC','staID'))\n",
    "        da.name = vars_in[cvar]\n",
    "        da.coords['staID'] = cstaID\n",
    "        da.coords['Lat'] = csta_lat\n",
    "        da.coords['Lon'] = csta_lon\n",
    "        da.coords['station_name'] = csta_name\n",
    "        \n",
    "        #Store\n",
    "        da_temp.append(da)\n",
    "    \n",
    "    # Combine all stations\n",
    "    ds_cvar = xr.concat(da_temp, dim='staID')\n",
    "    var_temp.append(ds_cvar)\n",
    "    \n",
    "# Merge\n",
    "ds_out = xr.merge(var_temp)"
   ]
  },
  {
   "cell_type": "code",
   "execution_count": null,
   "metadata": {
    "collapsed": false
   },
   "outputs": [],
   "source": []
  },
  {
   "cell_type": "code",
   "execution_count": null,
   "metadata": {
    "collapsed": false
   },
   "outputs": [],
   "source": []
  },
  {
   "cell_type": "code",
   "execution_count": null,
   "metadata": {
    "collapsed": false
   },
   "outputs": [],
   "source": [
    "# Units to standard\n",
    "ds_out['SWE_point'] = ds_out['SWE_point'] / 1000 # mm to m\n",
    "ds_out['SnowDepth_point'] = ds_out['SnowDepth_point'] / 100 # cm to m"
   ]
  },
  {
   "cell_type": "code",
   "execution_count": null,
   "metadata": {
    "collapsed": false
   },
   "outputs": [],
   "source": [
    "## ADD UNITS\n",
    "# Add variable attributes (units), and fix variable names (remove spaces)\n",
    "for cvar in ds_out.data_vars:\n",
    "    # add units as attributes\n",
    "    ds_out.get(cvar).attrs['unit'] = unit_dict[cvar]"
   ]
  },
  {
   "cell_type": "code",
   "execution_count": null,
   "metadata": {
    "collapsed": false
   },
   "outputs": [],
   "source": [
    "# Orig filese are missing Elevation, so used a separate metadata file\n",
    "# Import metadata for each station\n",
    "metadata_EL = pd.read_csv(meta_file_path,index_col='staID',delimiter=',',na_values=[0])\n",
    "metadata_EL = metadata_EL.loc[ds_out.staID.values]\n",
    "ds_out.coords['Elevation'] = xr.DataArray(metadata_EL['Elevation'],coords={'staID':metadata_EL.index}, dims='staID')"
   ]
  },
  {
   "cell_type": "code",
   "execution_count": null,
   "metadata": {
    "collapsed": false
   },
   "outputs": [],
   "source": [
    "# Add Network(s)\n",
    "ds_out.coords['network'] = xr.DataArray([network for x in ds_out.staID], dims='staID')"
   ]
  },
  {
   "cell_type": "code",
   "execution_count": null,
   "metadata": {
    "collapsed": false
   },
   "outputs": [],
   "source": [
    "ds_out"
   ]
  },
  {
   "cell_type": "code",
   "execution_count": null,
   "metadata": {
    "collapsed": false
   },
   "outputs": [],
   "source": [
    "# Save as netcdf file\n",
    "ds_out.to_netcdf(netcdf_file_out)"
   ]
  },
  {
   "cell_type": "code",
   "execution_count": null,
   "metadata": {
    "collapsed": false
   },
   "outputs": [],
   "source": [
    "# Quick Plot\n",
    "for cvar in ds_out.data_vars:\n",
    "    plt.figure()\n",
    "    for csta in ds_out.staID:\n",
    "        plt.scatter(ds_out.Time_UTC.values, ds_out[cvar].sel(staID=csta).values)"
   ]
  },
  {
   "cell_type": "code",
   "execution_count": null,
   "metadata": {
    "collapsed": false
   },
   "outputs": [],
   "source": []
  },
  {
   "cell_type": "code",
   "execution_count": null,
   "metadata": {
    "collapsed": true
   },
   "outputs": [],
   "source": []
  },
  {
   "cell_type": "code",
   "execution_count": null,
   "metadata": {
    "collapsed": true
   },
   "outputs": [],
   "source": []
  }
 ],
 "metadata": {
  "kernelspec": {
   "display_name": "Python 3",
   "language": "python",
   "name": "python3"
  },
  "language_info": {
   "codemirror_mode": {
    "name": "ipython",
    "version": 3
   },
   "file_extension": ".py",
   "mimetype": "text/x-python",
   "name": "python",
   "nbconvert_exporter": "python",
   "pygments_lexer": "ipython3",
   "version": "3.5.3"
  }
 },
 "nbformat": 4,
 "nbformat_minor": 0
}

{
 "cells": [
  {
   "cell_type": "code",
   "execution_count": null,
   "metadata": {
    "collapsed": false,
    "scrolled": true
   },
   "outputs": [],
   "source": [
    "%matplotlib inline\n",
    "from PIL import Image\n",
    "import os\n",
    "import numpy as np\n",
    "import pandas as pd\n",
    "import matplotlib\n",
    "import matplotlib.pyplot as plt\n",
    "import glob\n",
    "plt.rcParams.update({'figure.max_open_warning': 0})\n",
    "\n",
    "def main():   \n",
    "    # Set font size\n",
    "    font = {'weight' : 'bold',\n",
    "            'size'   : 20}\n",
    "    matplotlib.rc('font', **font)\n",
    "\n",
    "    # Input Tif dir\n",
    "    tif_dir   = os.path.normpath(r'/home/nwayand/snow_models/output_CHM/SnowCast/output')\n",
    "    #tif_dir   = os.path.normpath(r'C:\\Users\\new356\\Model_Output\\CHM\\SnowCast')\n",
    "    \n",
    "    # Move to Tif dir\n",
    "    os.chdir(tif_dir) \n",
    "    \n",
    "    # Elevation\n",
    "    content = glob.glob('*Elevation*') # Get list of files\n",
    "    Elev = open_tif(content[0])\n",
    "    plt.figure()\n",
    "    plt.imshow(Elev)\n",
    "    plt.clim(0,Elev.max().max())\n",
    "    plt.colorbar(ticks=[np.arange(0, Elev.max().max(),500)])\n",
    "    fig = plt.gcf()\n",
    "    fig.set_size_inches(18.5, 10.5,forward=True)\n",
    "    plt.title('Elevation (m)')\n",
    "\n",
    "    # Air Temperature\n",
    "    content = glob.glob('*_t.tif') # Get list of files\n",
    "    for cfile in content:\n",
    "        t = open_tif(cfile)\n",
    "        plot_air_temp(t,cfile)\n",
    "    \n",
    "    # SWE\n",
    "    content = glob.glob('*_swe.tif') # Get list of files\n",
    "    for cfile in content:\n",
    "        swe = open_tif(cfile)\n",
    "        plot_swe(swe,cfile)\n",
    "        \n",
    "        \n",
    "    # Snowfall \n",
    "    content = glob.glob('*_p_snow.tif') # Get list of files\n",
    "    for cfile in content:\n",
    "        p_snow = open_tif(cfile)\n",
    "        plot_p_snow(p_snow,cfile)\n",
    "\n",
    "def plot_air_temp(df,cfile):\n",
    "    # Plot air temperature\n",
    "    plt.figure()\n",
    "    plt.imshow(df)\n",
    "    plt.clim(-10,25)\n",
    "    plt.colorbar(ticks=[np.arange(-10, 25,5)])\n",
    "    fig = plt.gcf()\n",
    "    fig.set_size_inches(18.5, 10.5,forward=True)\n",
    "    plt.title(cfile)\n",
    "        \n",
    "def plot_swe(df,cfile):\n",
    "    # Plot swe\n",
    "    if df.max().max()>0:\n",
    "        plt.figure()\n",
    "        plt.imshow(df)\n",
    "        fig = plt.gcf()\n",
    "        fig.set_size_inches(18.5, 10.5,forward=True)\n",
    "        plt.title(cfile)\n",
    "        plt.clim(0,df.max().max())\n",
    "        plt.colorbar(ticks=[np.arange(0, df.max().max() , (df.max().max()-0)/10)])\n",
    "    \n",
    "# plot amout of precip as snow (mm)\n",
    "def plot_p_snow(df,cfile):\n",
    "    # Plot p_snow\n",
    "    plt.figure()\n",
    "    plt.imshow(df)\n",
    "    fig = plt.gcf()\n",
    "    fig.set_size_inches(18.5, 10.5,forward=True)\n",
    "    plt.title(cfile)\n",
    "    plt.clim(0,df.max().max())\n",
    "    plt.colorbar(ticks=[np.arange(0, df.max().max() , (df.max().max()-0)/10)])\n",
    "\n",
    "\n",
    "    \n",
    "def open_tif(cfile):\n",
    "    im = Image.open(cfile)\n",
    "    var = np.array(im)\n",
    "    df = pd.DataFrame(var)\n",
    "    return df\n",
    "\n",
    "# Call main()\n",
    "main()"
   ]
  },
  {
   "cell_type": "code",
   "execution_count": null,
   "metadata": {
    "collapsed": false
   },
   "outputs": [],
   "source": []
  },
  {
   "cell_type": "code",
   "execution_count": null,
   "metadata": {
    "collapsed": false
   },
   "outputs": [],
   "source": []
  },
  {
   "cell_type": "code",
   "execution_count": null,
   "metadata": {
    "collapsed": false
   },
   "outputs": [],
   "source": []
  },
  {
   "cell_type": "code",
   "execution_count": null,
   "metadata": {
    "collapsed": false
   },
   "outputs": [],
   "source": []
  },
  {
   "cell_type": "code",
   "execution_count": null,
   "metadata": {
    "collapsed": true
   },
   "outputs": [],
   "source": []
  }
 ],
 "metadata": {
  "kernelspec": {
   "display_name": "Python 2",
   "language": "python",
   "name": "python2"
  },
  "language_info": {
   "codemirror_mode": {
    "name": "ipython",
    "version": 2
   },
   "file_extension": ".py",
   "mimetype": "text/x-python",
   "name": "python",
   "nbconvert_exporter": "python",
   "pygments_lexer": "ipython2",
   "version": "2.7.11"
  }
 },
 "nbformat": 4,
 "nbformat_minor": 0
}

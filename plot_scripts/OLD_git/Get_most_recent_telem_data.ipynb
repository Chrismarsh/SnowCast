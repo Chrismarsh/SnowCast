{
 "cells": [
  {
   "cell_type": "code",
   "execution_count": 1,
   "metadata": {
    "collapsed": false
   },
   "outputs": [],
   "source": [
    "import os\n",
    "\n",
    "# Settings\n",
    "Stations_all = ['BNS','CRG','CRN','FLG','FRG','FRS','PWL']\n",
    "csta = Stations_all[0]\n",
    "#### Paths\n",
    "\n",
    "## Dir for telemtry data\n",
    "# Linux\n",
    "#data_dir = os.path.normpath(r'/home/nwayand/hydrology_staff_readonly/Centre/Marmot Creek/Telemetry/FortressMountain')\n",
    "# Windows\n",
    "data_dir = os.path.normpath(r'Y:\\Centre\\Marmot Creek\\Telemetry\\FortressMountain')"
   ]
  },
  {
   "cell_type": "code",
   "execution_count": null,
   "metadata": {
    "collapsed": true
   },
   "outputs": [],
   "source": []
  },
  {
   "cell_type": "code",
   "execution_count": 5,
   "metadata": {
    "collapsed": false
   },
   "outputs": [],
   "source": [
    "def get_recent_CRHO_data_from_telem(csta,data_dir):\n",
    "    %matplotlib inline\n",
    "    import os\n",
    "    import numpy as np\n",
    "    import pandas as pd\n",
    "    from astropy.io import ascii\n",
    "    \n",
    "    # Move to data dir\n",
    "    os.chdir(data_dir) \n",
    "\n",
    "    c_header = 4 # Header lines\n",
    "    c_column_line = 1 # line where column names start\n",
    "    c_delimiter = ','\n",
    "\n",
    "    # Load in file\n",
    "    cfile = csta + '_0015.dat' # Format for 15 min file\n",
    "    dat = ascii.read(cfile,header_start=c_column_line,data_start=c_header,delimiter=c_delimiter,exclude_names='N/A')\n",
    "    datain = pd.DataFrame(dat.as_array())\n",
    "\n",
    "    # Replace -9999 with nan (recomended by netcdf)\n",
    "    datain.replace(-9999,np.NaN,inplace=True)\n",
    "\n",
    "    # Make TIMESTAMP the index\n",
    "    datain['TIMESTAMP'] = datain['TIMESTAMP'].astype('datetime64[ns]')\n",
    "    datain = datain.set_index('TIMESTAMP')\n",
    "\n",
    "    # Import header info \n",
    "    headerinfo = pd.read_csv(cfile,nrows=2,skiprows=1)\n",
    "    units = headerinfo.loc[0,:].tolist() # Grab first row of dataframe (units)\n",
    "    units = units[1:] # Remove first value which is the units of the timestamp\n",
    "\n",
    "    return {'datain':datain, 'units':units}"
   ]
  },
  {
   "cell_type": "code",
   "execution_count": 6,
   "metadata": {
    "collapsed": false
   },
   "outputs": [],
   "source": [
    "cstaout = get_recent_CRHO_data_from_telem(csta,data_dir)"
   ]
  },
  {
   "cell_type": "code",
   "execution_count": 9,
   "metadata": {
    "collapsed": false
   },
   "outputs": [
    {
     "data": {
      "text/plain": [
       "['RN',\n",
       " 'Degrees C',\n",
       " '%',\n",
       " '%',\n",
       " 'm/s',\n",
       " 'Deg',\n",
       " 'Deg',\n",
       " 'm',\n",
       " nan,\n",
       " 'W/m^2',\n",
       " 'W/m^2',\n",
       " 'W/m^2',\n",
       " 'W/m^2',\n",
       " 'deg_C',\n",
       " 'K',\n",
       " 'W/m^2',\n",
       " 'W/m^2',\n",
       " 'W/m^2',\n",
       " 'W/m^2',\n",
       " 'W/m^2',\n",
       " 'W/m^2',\n",
       " 'Degrees C',\n",
       " 'Degrees C',\n",
       " 'mm',\n",
       " 'm^3/m^3',\n",
       " 'dS/m',\n",
       " 'Degrees C',\n",
       " 'W/m^2',\n",
       " 'Degrees C',\n",
       " '%',\n",
       " 'm/s',\n",
       " 'W/m^2',\n",
       " 'W/m^2',\n",
       " 'W/m^2',\n",
       " 'W/m^2',\n",
       " 'deg_C',\n",
       " 'm^3/m^3',\n",
       " 'dS/m',\n",
       " 'Degrees C',\n",
       " 'm^3/m^3',\n",
       " 'dS/m',\n",
       " 'Degrees C',\n",
       " 'm^3/m^3',\n",
       " 'dS/m',\n",
       " 'Degrees C',\n",
       " 'm^3/m^3',\n",
       " 'dS/m',\n",
       " 'Degrees C',\n",
       " 'mm',\n",
       " 'mm',\n",
       " 'mm',\n",
       " 'mm',\n",
       " 'mm',\n",
       " 'mm',\n",
       " 'mm',\n",
       " nan,\n",
       " 'm/s',\n",
       " 'm/s',\n",
       " 'degrees',\n",
       " 'Deg',\n",
       " 'Hz',\n",
       " 'Hz',\n",
       " 'Hz',\n",
       " 'mm',\n",
       " 'mm',\n",
       " 'mm',\n",
       " 'DegreesC',\n",
       " 'DegreesC']"
      ]
     },
     "execution_count": 9,
     "metadata": {},
     "output_type": "execute_result"
    }
   ],
   "source": [
    "#cstaout['datain']\n",
    "cstaout['units']"
   ]
  },
  {
   "cell_type": "code",
   "execution_count": null,
   "metadata": {
    "collapsed": true
   },
   "outputs": [],
   "source": []
  }
 ],
 "metadata": {
  "kernelspec": {
   "display_name": "Python 2",
   "language": "python",
   "name": "python2"
  },
  "language_info": {
   "codemirror_mode": {
    "name": "ipython",
    "version": 2
   },
   "file_extension": ".py",
   "mimetype": "text/x-python",
   "name": "python",
   "nbconvert_exporter": "python",
   "pygments_lexer": "ipython2",
   "version": "2.7.12"
  }
 },
 "nbformat": 4,
 "nbformat_minor": 0
}
